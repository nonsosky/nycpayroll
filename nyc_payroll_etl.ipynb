{
 "cells": [
  {
   "cell_type": "code",
   "execution_count": null,
   "metadata": {},
   "outputs": [],
   "source": [
    "# Import Necessary Libraries\n",
    "import pyspark\n",
    "from pyspark.sql import SparkSession\n",
    "from pyspark.sql.functions import monotonically_increasing_id, col\n",
    "import os\n",
    "from pyspark.sql.types import StructType, StructField, StringType, DoubleType, IntegerType, DateType"
   ]
  },
  {
   "cell_type": "code",
   "execution_count": null,
   "metadata": {},
   "outputs": [],
   "source": [
    "# Set Java Environment\n",
    "os.environ['JAVA_HOME'] = \"C:/java8\""
   ]
  },
  {
   "cell_type": "code",
   "execution_count": null,
   "metadata": {},
   "outputs": [],
   "source": [
    "# Initialize Spark Session\n",
    "spark = SparkSession.builder \\\n",
    "    .appName(\"PayrollETL\") \\\n",
    "    .config(\"spark.sql.shuffle.partitions\", \"50\") \\\n",
    "    .config(\"spark.driver.memory\", \"4g\") \\\n",
    "    .config(\"spark.executor.memory\", \"8g\") \\\n",
    "    .getOrCreate()"
   ]
  },
  {
   "cell_type": "markdown",
   "metadata": {},
   "source": [
    "#### Data Extraction"
   ]
  },
  {
   "cell_type": "code",
   "execution_count": null,
   "metadata": {},
   "outputs": [],
   "source": [
    "#Load Master Data\n",
    "employee_df = spark.read.csv(r'dataset\\raw\\EmpMaster.csv', header=True, inferSchema=True)\n",
    "agency_df = spark.read.csv(r'dataset\\raw\\AgencyMaster.csv', header=True, inferSchema=True)\n",
    "jobtitle_df = spark.read.csv(r'dataset/raw/TitleMaster.csv', header=True, inferSchema=True)"
   ]
  },
  {
   "cell_type": "code",
   "execution_count": null,
   "metadata": {},
   "outputs": [],
   "source": [
    "# Function to load the multiple payroll datasets and merge them \n",
    "def load_data(file_paths):\n",
    "    payroll_df = [spark.read.csv(file, header=True, inferSchema=True) for file in file_paths]\n",
    "    merged_df = payroll_df[0]\n",
    "    for df in payroll_df[1:]:\n",
    "        merged_df = merged_df.union(df)\n",
    "    return merged_df.dropDuplicates([\"EmployeeID\", \"FiscalYear\"])"
   ]
  },
  {
   "cell_type": "code",
   "execution_count": null,
   "metadata": {},
   "outputs": [],
   "source": [
    "# List all payroll files\n",
    "payroll_files = [r\"dataset\\raw\\nycpayroll_2020.csv\", r\"dataset\\raw\\nycpayroll_2021.csv\"]"
   ]
  },
  {
   "cell_type": "code",
   "execution_count": null,
   "metadata": {},
   "outputs": [],
   "source": [
    "# Load and merge payroll data\n",
    "payroll_df = load_data(payroll_files)"
   ]
  }
 ],
 "metadata": {
  "kernelspec": {
   "display_name": "base",
   "language": "python",
   "name": "python3"
  },
  "language_info": {
   "codemirror_mode": {
    "name": "ipython",
    "version": 3
   },
   "file_extension": ".py",
   "mimetype": "text/x-python",
   "name": "python",
   "nbconvert_exporter": "python",
   "pygments_lexer": "ipython3",
   "version": "3.12.4"
  }
 },
 "nbformat": 4,
 "nbformat_minor": 2
}
