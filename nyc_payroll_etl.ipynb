{
 "cells": [
  {
   "cell_type": "code",
   "execution_count": 1,
   "metadata": {},
   "outputs": [],
   "source": [
    "# Import Necessary Libraries\n",
    "import pyspark\n",
    "from pyspark.sql import SparkSession\n",
    "from pyspark.sql.functions import monotonically_increasing_id, col\n",
    "import os\n",
    "from pyspark.sql.types import StructType, StructField, StringType, DoubleType, IntegerType, DateType"
   ]
  },
  {
   "cell_type": "code",
   "execution_count": 2,
   "metadata": {},
   "outputs": [],
   "source": [
    "# Set Java Environment\n",
    "os.environ['JAVA_HOME'] = \"C:/java8\""
   ]
  },
  {
   "cell_type": "code",
   "execution_count": 3,
   "metadata": {},
   "outputs": [],
   "source": [
    "# Initialize Spark Session\n",
    "spark = SparkSession.builder \\\n",
    "    .appName(\"PayrollETL\") \\\n",
    "    .config(\"spark.sql.shuffle.partitions\", \"50\") \\\n",
    "    .config(\"spark.driver.memory\", \"4g\") \\\n",
    "    .config(\"spark.executor.memory\", \"8g\") \\\n",
    "    .getOrCreate()"
   ]
  },
  {
   "cell_type": "code",
   "execution_count": 5,
   "metadata": {},
   "outputs": [],
   "source": [
    "#Data Extraction\n",
    "employee_df = spark.read.csv(r'dataset\\raw\\EmpMaster.csv', header=True, inferSchema=True)\n",
    "agency_df = spark.read.csv(r'dataset\\raw\\AgencyMaster.csv', header=True, inferSchema=True)\n",
    "jobtitle_df = spark.read.csv(r'dataset/raw/TitleMaster.csv', header=True, inferSchema=True)\n",
    "payroll_2021 = spark.read.csv(r'dataset\\raw\\nycpayroll_2021.csv', header=True, inferSchema=True)\n",
    "payroll_2020 = spark.read.csv(r'dataset\\raw\\nycpayroll_2020.csv', header=True, inferSchema=True)"
   ]
  },
  {
   "cell_type": "code",
   "execution_count": 10,
   "metadata": {},
   "outputs": [
    {
     "name": "stdout",
     "output_type": "stream",
     "text": [
      "+----------+-------------+----------+--------------------+----------+-----------+-----------+---------------+-------------------+---------+--------------------+---------------------+----------+---------+------------+----------------+-------+-----------+-------------+\n",
      "|FiscalYear|PayrollNumber|AgencyCode|          AgencyName|EmployeeID|   LastName|  FirstName|AgencyStartDate|WorkLocationBorough|TitleCode|    TitleDescription|LeaveStatusasofJune30|BaseSalary| PayBasis|RegularHours|RegularGrossPaid|OTHours|TotalOTPaid|TotalOtherPay|\n",
      "+----------+-------------+----------+--------------------+----------+-----------+-----------+---------------+-------------------+---------+--------------------+---------------------+----------+---------+------------+----------------+-------+-----------+-------------+\n",
      "|      2021|          996|      2153|NYC HOUSING AUTHO...|    209184|MUSTACIUOLO|       VITO|      2/26/2018|          MANHATTAN|    40475|  EXECUTIVE DIRECTOR|               ACTIVE|  258000.0|per Annum|        1820|        257260.3|    0.0|        0.0|     258000.0|\n",
      "|      2021|          996|      2153|NYC HOUSING AUTHO...|    302330|       RUSS|    GREGORY|      8/12/2019|          MANHATTAN|    41143|               CHAIR|               ACTIVE|  414707.0|per Annum|        1820|       413518.05|    0.0|        0.0|        500.0|\n",
      "|      2021|          816|      2129|DEPT OF HEALTH/ME...|     49788|   HALLAHAN|    PATRICK|      2/26/2018|           BROOKLYN|    40782| STATIONARY ENGINEER|               ACTIVE|     508.8|  per Day|        2080|        132288.0|2115.25|  218628.18|     56616.07|\n",
      "|      2021|          816|      2129|DEPT OF HEALTH/ME...|    251626|     PETTIT|    PATRICK|       8/2/2010|          MANHATTAN|    40782| STATIONARY ENGINEER|               ACTIVE|     508.8|  per Day|        2080|        132288.0|2152.75|  218694.96|     38611.82|\n",
      "|      2021|          816|      2129|DEPT OF HEALTH/ME...|    364376|   TELEHANY|    STEPHEN|      1/16/2007|             QUEENS|    40782| STATIONARY ENGINEER|               ACTIVE|     508.8|  per Day|        2080|        132288.0|1876.25|  192296.19|      51160.2|\n",
      "|      2021|          462|      2092|GUTTMAN COMMUNITY...|    375488|   EVENBECK|      SCOTT|      4/17/2011|          MANHATTAN|    40640|           PRESIDENT|               CEASED|  228000.0|per Annum|         980|       122427.81|    0.0|        0.0|     244495.2|\n",
      "|      2021|          996|      2153|NYC HOUSING AUTHO...|    332352|      DALEY|   GARFIELD|      5/24/1994|              BRONX|    40812|SUPERVISOR ELECTR...|               ACTIVE|    460.25|  per Day|        1820|       119469.25| 2032.5|  200038.56|     28316.97|\n",
      "|      2021|          816|      2129|DEPT OF HEALTH/ME...|    277548|   REINHOLD|CHRISTOPHER|       2/4/2019|           BROOKLYN|    40782| STATIONARY ENGINEER|               ACTIVE|     508.8|  per Day|        2080|       134832.62|1755.25|  172637.44|     40184.01|\n",
      "|      2021|          816|      2129|DEPT OF HEALTH/ME...|    243090|    BEHRENS|      GREGG|      7/31/2006|          MANHATTAN|    40782| STATIONARY ENGINEER|               ACTIVE|     508.8|  per Day|        2080|        132288.0|1689.25|   170511.6|     35905.23|\n",
      "|      2021|          816|      2129|DEPT OF HEALTH/ME...|    105284|      KELLY|       SEAN|      10/1/2004|           BROOKLYN|    41011|CITY MEDICAL EXAM...|               ACTIVE|  238275.0|per Annum|        2080|       263716.96| 159.25|   22695.88|     39879.43|\n",
      "|      2021|           72|      2017|DEPARTMENT OF COR...|    263232|   PREZIOSO|     ROBERT|      3/24/2008|          MANHATTAN|    40782| STATIONARY ENGINEER|               ACTIVE|     508.8|  per Day|        2080|        132288.0|1674.75|  163680.96|     28856.47|\n",
      "|      2021|           72|      2017|DEPARTMENT OF COR...|     27580|    GLACKIN|     THOMAS|      1/27/2020|             QUEENS|    40782| STATIONARY ENGINEER|               ACTIVE|     508.8|  per Day|        2080|        132288.0|1713.25|  163552.17|      16279.2|\n",
      "|      2021|          816|      2129|DEPT OF HEALTH/ME...|    188446|   MILEWSKI|     YVONNE|      12/9/2013|             QUEENS|    41011|CITY MEDICAL EXAM...|               ACTIVE|  238275.0|per Annum|        2080|       263772.13|  182.0|   22075.41|     24624.58|\n",
      "|      2021|          816|      2129|DEPT OF HEALTH/ME...|     40072|  GREENBERG|    MICHAEL|       7/1/2005|             QUEENS|    41011|CITY MEDICAL EXAM...|               ACTIVE|  238275.0|per Annum|        2080|       260751.37|  109.5|   14252.23|     32150.56|\n",
      "|      2021|          826|      2131|DEPT OF ENVIRONME...|    200736|     MORENO|      IRVIN|      2/14/1989|          MANHATTAN|    40782| STATIONARY ENGINEER|               ACTIVE|    501.92|  per Day|        2080|        130499.2| 1271.5|  120814.08|     54310.04|\n",
      "|      2021|            8|      2044|OFFICE OF THE ACT...|    298996|       CHAN|     SHERRY|      5/18/2015|          MANHATTAN|    40237|       CHIEF ACTUARY|               ACTIVE|  311885.0|per Annum|        1820|       311007.12|    0.0|        0.0|      -5974.8|\n",
      "|      2021|          816|      2129|DEPT OF HEALTH/ME...|    121788|      LANDI|    KRISTEN|       7/1/2003|             QUEENS|    41011|CITY MEDICAL EXAM...|               ACTIVE|  238275.0|per Annum|        2080|        268042.3|    0.0|        0.0|     34011.18|\n",
      "|      2021|           72|      2017|DEPARTMENT OF COR...|    277294|  REILLY JR|    RICHARD|     10/20/2014|             QUEENS|    40747|SENIOR STATIONARY...|               ACTIVE|    581.12|  per Day|        2080|        151091.2|1397.75|  148760.04|       1498.2|\n",
      "|      2021|          816|      2129|DEPT OF HEALTH/ME...|    380296|     UDEAGU|    CHI-CHI|      8/31/1992|             QUEENS|    40081|ADMINISTRATIVE ST...|               ACTIVE|  145415.0|per Annum|        1820|       145005.68|1330.75|  153480.98|      2463.44|\n",
      "|      2021|          827|      2132|DEPARTMENT OF SAN...|    360648|      TAMAS|CHRISTOPHER|      7/10/2000|              BRONX|    40809|          SUPERVISOR|               ACTIVE|  108846.0|per Annum|        2080|       110309.14| 1981.5|  170883.87|      17967.1|\n",
      "+----------+-------------+----------+--------------------+----------+-----------+-----------+---------------+-------------------+---------+--------------------+---------------------+----------+---------+------------+----------------+-------+-----------+-------------+\n",
      "only showing top 20 rows\n",
      "\n"
     ]
    }
   ],
   "source": [
    "payroll_2021.show()"
   ]
  }
 ],
 "metadata": {
  "kernelspec": {
   "display_name": "base",
   "language": "python",
   "name": "python3"
  },
  "language_info": {
   "codemirror_mode": {
    "name": "ipython",
    "version": 3
   },
   "file_extension": ".py",
   "mimetype": "text/x-python",
   "name": "python",
   "nbconvert_exporter": "python",
   "pygments_lexer": "ipython3",
   "version": "3.12.4"
  }
 },
 "nbformat": 4,
 "nbformat_minor": 2
}
