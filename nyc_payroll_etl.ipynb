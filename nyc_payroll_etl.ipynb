{
 "cells": [
  {
   "cell_type": "code",
   "execution_count": null,
   "metadata": {},
   "outputs": [],
   "source": [
    "# Import Necessary Libraries\n",
    "import pyspark\n",
    "from pyspark.sql import SparkSession\n",
    "from pyspark.sql.functions import monotonically_increasing_id\n",
    "import os, glob\n",
    "from dotenv import load_dotenv\n",
    "import psycopg2\n",
    "from sqlalchemy import create_engine"
   ]
  },
  {
   "cell_type": "code",
   "execution_count": null,
   "metadata": {},
   "outputs": [],
   "source": [
    "# Set Java Environment\n",
    "os.environ['JAVA_HOME'] = \"C:/java8\""
   ]
  },
  {
   "cell_type": "code",
   "execution_count": null,
   "metadata": {},
   "outputs": [],
   "source": [
    "# Initialize Spark Session\n",
    "spark = SparkSession.builder \\\n",
    "    .appName(\"PayrollETL\") \\\n",
    "    .config(\"spark.sql.shuffle.partitions\", \"50\") \\\n",
    "    .config(\"spark.driver.memory\", \"4g\") \\\n",
    "    .config(\"spark.executor.memory\", \"8g\") \\\n",
    "    .getOrCreate()"
   ]
  },
  {
   "cell_type": "markdown",
   "metadata": {},
   "source": [
    "#### Data Extraction"
   ]
  },
  {
   "cell_type": "code",
   "execution_count": null,
   "metadata": {},
   "outputs": [],
   "source": [
    "#Load Master Data\n",
    "employee_df = spark.read.csv(r'dataset\\raw\\EmpMaster.csv', header=True, inferSchema=True)\n",
    "agency_df = spark.read.csv(r'dataset\\raw\\AgencyMaster.csv', header=True, inferSchema=True)\n",
    "jobtitle_df = spark.read.csv(r'dataset/raw/TitleMaster.csv', header=True, inferSchema=True)"
   ]
  },
  {
   "cell_type": "code",
   "execution_count": null,
   "metadata": {},
   "outputs": [],
   "source": [
    "#Dynamically Loading and Merging all Payroll data\n",
    "\n",
    "# Define directory containing payroll CSV files\n",
    "payroll_dir = r\"dataset\\payroll_data\" \n",
    "\n",
    "# Find all payroll CSV files dynamically\n",
    "payroll_files = glob.glob(os.path.join(payroll_dir, \"nycpayroll_*.csv\"))\n",
    "\n",
    "# Check if any files were found\n",
    "if not payroll_files:\n",
    "    raise ValueError(\"No payroll files found in the directory!\")\n",
    "\n",
    "# Load and merge payroll data\n",
    "def load_payroll_data(files):\n",
    "    \"\"\"Loads multiple payroll datasets dynamically and merges them.\"\"\"\n",
    "    dataframes = [spark.read.csv(file, header=True, inferSchema=True) for file in files]\n",
    "    merged_df = dataframes[0]\n",
    "    for df in dataframes[1:]:\n",
    "        merged_df = merged_df.union(df)\n",
    "    return merged_df.dropDuplicates([\"EmployeeID\", \"FiscalYear\"])\n",
    "\n",
    "# Load and process payroll data\n",
    "payroll_df = load_payroll_data(payroll_files)\n",
    "\n",
    "# Show the schema and first few rows for validation\n",
    "payroll_df.printSchema()\n",
    "payroll_df.show()"
   ]
  },
  {
   "cell_type": "markdown",
   "metadata": {},
   "source": [
    "#### Data Transformation"
   ]
  },
  {
   "cell_type": "code",
   "execution_count": null,
   "metadata": {},
   "outputs": [],
   "source": [
    "# Convert AgencyStartDate to Date datatype\n",
    "payroll_df = payroll_df.withColumn(\"AgencyStartDate\", pyspark.sql.functions.to_date(payroll_df[\"AgencyStartDate\"], \"M/d/yyyy\"))\n",
    "\n",
    "payroll_df.show(300)"
   ]
  },
  {
   "cell_type": "code",
   "execution_count": null,
   "metadata": {},
   "outputs": [],
   "source": [
    "# Check for Null values\n",
    "for column in payroll_df.columns:\n",
    "    print(column, 'Nulls: ', payroll_df.filter(payroll_df[column].isNull()).count())"
   ]
  },
  {
   "cell_type": "code",
   "execution_count": null,
   "metadata": {},
   "outputs": [],
   "source": [
    "# Fill null values with defaults\n",
    "for col_name, dtype in payroll_df.dtypes:\n",
    "    if dtype == \"string\":\n",
    "        payroll_df = payroll_df.fillna({col_name: \"Unknown\"})\n",
    "    elif dtype in [\"double\", \"float\"]:\n",
    "        payroll_df = payroll_df.fillna({col_name: 0.0})\n",
    "    elif dtype in [\"int\", \"bigint\"]:\n",
    "        payroll_df = payroll_df.fillna({col_name: 0})"
   ]
  },
  {
   "cell_type": "code",
   "execution_count": null,
   "metadata": {},
   "outputs": [],
   "source": [
    "# Merge all data together\n",
    "merged_data = payroll_df \\\n",
    "    .join(employee_df, [\"EmployeeID\", \"LastName\", \"FirstName\"], \"left\") \\\n",
    "    .join(agency_df, [\"AgencyID\", \"AgencyName\"], \"left\") \\\n",
    "    .join(jobtitle_df, [\"TitleCode\", \"TitleDescription\"], \"left\")\n"
   ]
  },
  {
   "cell_type": "code",
   "execution_count": null,
   "metadata": {},
   "outputs": [],
   "source": [
    "\n",
    "# Create Employee Dimension Table\n",
    "employee_dim = merged_data.select('EmployeeID', 'LastName', 'FirstName', 'WorkLocationBorough', 'LeaveStatusasofJune30').dropDuplicates(['EmployeeID'])\n",
    "\n",
    "#Create Agency Dimension Table\n",
    "agency_dim = merged_data.select('AgencyID', 'AgencyName').dropDuplicates()\n",
    "\n",
    "#Create Job_Title Dimension Table\n",
    "jobtitle_dim = merged_data.select('TitleCode', 'TitleDescription').dropDuplicates() \n",
    "\n",
    "#Create Time Dimension Table\n",
    "time_dim = merged_data.select('FiscalYear').dropDuplicates() \\\n",
    "        .withColumn('TimeID', monotonically_increasing_id()) \\\n",
    "        .select('TimeID', 'FiscalYear')\n",
    "\n",
    "# # Create Payroll_Fact_table\n",
    "payroll_fact_tbl = merged_data.join(employee_dim.alias('e'), ['LastName', 'FirstName', 'LeaveStatusasofJune30', 'WorkLocationBorough'], 'inner') \\\n",
    "                .join(agency_dim.alias('a'), ['AgencyName'], 'inner') \\\n",
    "                .join(jobtitle_dim.alias('t'), ['TitleDescription'], 'inner') \\\n",
    "                .join(time_dim, ['FiscalYear'], 'inner') \\\n",
    "                .withColumn('PayrollID', monotonically_increasing_id()) \\\n",
    "                .select('PayrollID','e.EmployeeID', 'a.AgencyID', 't.TitleCode', 'TimeID', 'PayrollNumber', 'BaseSalary', 'PayBasis', 'AgencyStartDate', 'RegularHours', 'RegularGrossPaid', 'OTHours', 'TotalOTPaid', 'TotalOtherPay')"
   ]
  },
  {
   "cell_type": "code",
   "execution_count": null,
   "metadata": {},
   "outputs": [],
   "source": [
    "# Save tables to Cleaned_data folder using parquet\n",
    "employee_dim.write.mode(\"overwrite\").parquet(r\"dataset\\cleaned_data\\employee_dim\")\n",
    "agency_dim.write.mode(\"overwrite\").parquet(r\"dataset\\cleaned_data\\agency_dim\")\n",
    "jobtitle_dim.write.mode(\"overwrite\").parquet(r\"dataset\\cleaned_data\\jobtitle_dim\")\n",
    "time_dim.write.mode(\"overwrite\").parquet(r\"dataset\\cleaned_data\\time_dim\")\n",
    "payroll_fact_tbl.write.mode(\"overwrite\").parquet(r\"dataset\\cleaned_data\\payroll_fact_table\")"
   ]
  },
  {
   "cell_type": "code",
   "execution_count": null,
   "metadata": {},
   "outputs": [],
   "source": [
    "# Function to rename all columns to lowercase\n",
    "def rename_columns_to_lowercase(df):\n",
    "    return df.toDF(*[col.lower() for col in df.columns])\n",
    "\n",
    "# Apply to all dimension tables\n",
    "employee_dim = rename_columns_to_lowercase(employee_dim)\n",
    "agency_dim = rename_columns_to_lowercase(agency_dim)\n",
    "jobtitle_dim = rename_columns_to_lowercase(jobtitle_dim)\n",
    "time_dim = rename_columns_to_lowercase(time_dim)\n",
    "payroll_fact_tbl = rename_columns_to_lowercase(payroll_fact_tbl)"
   ]
  },
  {
   "cell_type": "code",
   "execution_count": null,
   "metadata": {},
   "outputs": [],
   "source": [
    "payroll_fact_tbl.show(205)"
   ]
  },
  {
   "cell_type": "markdown",
   "metadata": {},
   "source": [
    "#### Data Loading"
   ]
  },
  {
   "cell_type": "code",
   "execution_count": null,
   "metadata": {},
   "outputs": [],
   "source": [
    "# Develop a function to get the Database connection\n",
    "load_dotenv()\n",
    "\n",
    "DB_NAME = os.getenv(\"DB_NAME\")\n",
    "DB_USER = os.getenv(\"DB_USER\")\n",
    "DB_PORT = os.getenv(\"DB_PORT\")\n",
    "DB_PASS = os.getenv(\"DB_PASSWORD\")\n",
    "DB_PASSWORD = os.getenv(\"DB_PASS\")\n",
    "DB_HOST = os.getenv(\"DB_HOST\")\n",
    "\n",
    "def get_db_connection():\n",
    "    connection = psycopg2.connect(\n",
    "        host=DB_HOST,\n",
    "        database=DB_NAME,\n",
    "        user=DB_USER,\n",
    "        password=DB_PASS,\n",
    "        port=DB_PORT,\n",
    "        options=\"-c search_path=nyc_payroll\"\n",
    "    )\n",
    "    return connection\n",
    "\n",
    "#connect to our database\n",
    "conn = get_db_connection()"
   ]
  },
  {
   "cell_type": "code",
   "execution_count": null,
   "metadata": {},
   "outputs": [],
   "source": [
    "# Create a function create tables\n",
    "def create_tables():\n",
    "    conn = get_db_connection()\n",
    "    cursor = conn.cursor()\n",
    "    create_table_query = '''\n",
    "\n",
    "                        CREATE SCHEMA IF NOT EXISTS nyc_payroll;\n",
    "\n",
    "                        DROP TABLE IF EXISTS nyc_payroll.employee CASCADE;\n",
    "                        DROP TABLE IF EXISTS nyc_payroll.agency CASCADE;\n",
    "                        DROP TABLE IF EXISTS nyc_payroll.jobtitle CASCADE;\n",
    "                        DROP TABLE IF EXISTS nyc_payroll.time CASCADE;\n",
    "                        DROP TABLE IF EXISTS nyc_payroll.fact_table CASCADE;\n",
    "\n",
    "\n",
    "                        CREATE TABLE IF NOT EXISTS nyc_payroll.employee(\n",
    "                            EmployeeID INT PRIMARY KEY,\n",
    "                            LastName VARCHAR(1000),\n",
    "                            FirstName VARCHAR(1000),\n",
    "                            WorkLocationBorough VARCHAR(1000),\n",
    "                            LeaveStatusasofJune30 VARCHAR(1000)\n",
    "                        );\n",
    "\n",
    "                        CREATE TABLE IF NOT EXISTS nyc_payroll.agency(\n",
    "                            AgencyID INT PRIMARY KEY,\n",
    "                            AgencyName VARCHAR(1000)\n",
    "                        );\n",
    "\n",
    "                        CREATE TABLE IF NOT EXISTS nyc_payroll.jobtitle(\n",
    "                            TitleCode INT PRIMARY KEY,\n",
    "                            TitleDescription VARCHAR(1000)\n",
    "                        );\n",
    "\n",
    "                        CREATE TABLE IF NOT EXISTS nyc_payroll.time(\n",
    "                            TimeID INT PRIMARY KEY,\n",
    "                            FiscalYear INT\n",
    "                        );\n",
    "\n",
    "                        CREATE TABLE IF NOT EXISTS nyc_payroll.fact_table(\n",
    "                            PayrollID INT PRIMARY KEY,\n",
    "                            EmployeeID INT,\n",
    "                            AgencyID INT,\n",
    "                            TitleCode INT,\n",
    "                            TimeID INT,\n",
    "                            PayrollNumber INT,\n",
    "                            BaseSalary DECIMAL(10,2),\n",
    "                            PayBasis VARCHAR(1000),\n",
    "                            AgencyStartDate DATE,\n",
    "                            RegularHours DECIMAL(10,2),\n",
    "                            RegularGrossPaid DECIMAL(10,2),\n",
    "                            OTHours DECIMAL(10,2),\n",
    "                            TotalOTPaid DECIMAL(10,2),\n",
    "                            TotalOtherPay DECIMAL(10,2),\n",
    "                            FOREIGN KEY (EmployeeID) REFERENCES nyc_payroll.employee(EmployeeID),\n",
    "                            FOREIGN KEY (AgencyID) REFERENCES nyc_payroll.agency(AgencyID),\n",
    "                            FOREIGN KEY (TitleCode) REFERENCES nyc_payroll.jobtitle(TitleCode),\n",
    "                            FOREIGN KEY (TimeID) REFERENCES nyc_payroll.time(TimeID)\n",
    "\n",
    "                        );\n",
    "\n",
    "        '''\n",
    "    cursor.execute(create_table_query)\n",
    "    conn.commit()\n",
    "    cursor.close()\n",
    "\n",
    "create_tables()\n",
    "\n",
    "# Create SQLAlchemy engine\n",
    "engine = create_engine(f\"postgresql://{DB_USER}:{DB_PASSWORD}@{DB_HOST}:{DB_PORT}/{DB_NAME}\")\n",
    "\n",
    "# # Convert PySpark DF to Pandas\n",
    "try:\n",
    "    employee_dim.toPandas().to_sql(\"employee\", engine, schema=\"nyc_payroll\", if_exists=\"append\", index=False)\n",
    "    agency_dim.toPandas().to_sql(\"agency\", engine, schema=\"nyc_payroll\", if_exists=\"append\", index=False)\n",
    "    jobtitle_dim.toPandas().to_sql(\"jobtitle\", engine, schema=\"nyc_payroll\", if_exists=\"append\", index=False)\n",
    "    time_dim.toPandas().to_sql(\"time\", engine, schema=\"nyc_payroll\", if_exists=\"append\", index=False)\n",
    "    payroll_fact_tbl.toPandas().to_sql(\"fact_table\", engine, schema=\"nyc_payroll\", if_exists=\"append\", index=False)\n",
    "    print(\"Data loaded successfully!\")\n",
    "except Exception as e:\n",
    "    print(\"Data loading Failed!\", e)\n",
    "conn.close()\n"
   ]
  }
 ],
 "metadata": {
  "kernelspec": {
   "display_name": "base",
   "language": "python",
   "name": "python3"
  },
  "language_info": {
   "codemirror_mode": {
    "name": "ipython",
    "version": 3
   },
   "file_extension": ".py",
   "mimetype": "text/x-python",
   "name": "python",
   "nbconvert_exporter": "python",
   "pygments_lexer": "ipython3",
   "version": "3.12.4"
  }
 },
 "nbformat": 4,
 "nbformat_minor": 2
}
